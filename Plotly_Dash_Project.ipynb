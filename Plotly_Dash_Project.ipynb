{
 "cells": [
  {
   "cell_type": "markdown",
   "metadata": {},
   "source": [
    "# Assignment\n",
    "\n",
    "## Story:\n",
    "\n",
    "As a data analyst, you have been given a task to monitor and report US domestic airline flights performance. Goal is to analyze the performance of the reporting airline to improve fight reliability thereby improving customer relaibility.\n",
    "\n",
    "Below are the key report items,\n",
    "\n",
    "-   Yearly airline performance report \n",
    "-   Yearly average flight delay statistics\n",
    "\n",
    "_NOTE:_ Year range is between 2005 and 2020.\n",
    "\n",
    "## Components of the report items\n",
    "\n",
    "1.  Yearly airline performance report \n",
    "\n",
    "    For the chosen year provide,\n",
    "\n",
    "    -   Number of flights under different cancellation categories using bar chart.\n",
    "    -   Average flight time by reporting airline using line chart.\n",
    "    -   Percentage of diverted airport landings per reporting airline using pie chart.\n",
    "    -   Number of flights flying from each state using choropleth map.\n",
    "    -   Number of flights flying to each state from each reporting airline using treemap chart.\n",
    "2.  Yearly average flight delay statistics\n",
    "\n",
    "    For the chosen year provide,\n",
    "\n",
    "    -   Monthly average carrier delay by reporting airline for the given year.\n",
    "    -   Monthly average weather delay by reporting airline for the given year.\n",
    "    -   Monthly average natioanl air system delay by reporting airline for the given year.\n",
    "    -   Monthly average security delay by reporting airline for the given year.\n",
    "    -   Monthly average late aircraft delay by reporting airline for the given year."
   ]
  },
  {
   "cell_type": "markdown",
   "metadata": {},
   "source": [
    "## Application"
   ]
  },
  {
   "cell_type": "code",
   "execution_count": 124,
   "metadata": {},
   "outputs": [],
   "source": [
    "# Import required libraries\n",
    "import pandas as pd\n",
    "import dash\n",
    "import dash_html_components as html\n",
    "import dash_core_components as dcc\n",
    "from dash.dependencies import Input, Output, State\n",
    "from jupyter_dash import JupyterDash\n",
    "import plotly.graph_objects as go\n",
    "import plotly.express as px"
   ]
  },
  {
   "cell_type": "code",
   "execution_count": 125,
   "metadata": {},
   "outputs": [
    {
     "name": "stdout",
     "output_type": "stream",
     "text": [
      "4.14.3\n"
     ]
    }
   ],
   "source": [
    "import plotly\n",
    "print(plotly.__version__)"
   ]
  },
  {
   "cell_type": "code",
   "execution_count": 126,
   "metadata": {},
   "outputs": [],
   "source": [
    "# Create a dash application\n",
    "app = JupyterDash(__name__)"
   ]
  },
  {
   "cell_type": "code",
   "execution_count": 128,
   "metadata": {},
   "outputs": [],
   "source": [
    "JupyterDash.infer_jupyter_proxy_config()"
   ]
  },
  {
   "cell_type": "code",
   "execution_count": 130,
   "metadata": {},
   "outputs": [],
   "source": [
    "JupyterDash.infer_jupyter_proxy_config() # run code twice because there is a bug"
   ]
  },
  {
   "cell_type": "code",
   "execution_count": 131,
   "metadata": {},
   "outputs": [],
   "source": [
    "# REVIEW1: Clear the layout and do not display exception till callback gets executed\n",
    "app.config.suppress_callback_exceptions = True"
   ]
  },
  {
   "cell_type": "code",
   "execution_count": 132,
   "metadata": {},
   "outputs": [],
   "source": [
    "# Read the airline data into pandas dataframe\n",
    "airline_data =  pd.read_csv('https://cf-courses-data.s3.us.cloud-object-storage.appdomain.cloud/IBMDeveloperSkillsNetwork-DV0101EN-SkillsNetwork/Data%20Files/airline_data.csv', \n",
    "                            encoding = \"ISO-8859-1\",\n",
    "                            dtype={'Div1Airport': str, 'Div1TailNum': str, \n",
    "                                   'Div2Airport': str, 'Div2TailNum': str})"
   ]
  },
  {
   "cell_type": "code",
   "execution_count": 133,
   "metadata": {},
   "outputs": [],
   "source": [
    "# List of years \n",
    "year_list = [i for i in range(2005, 2021, 1)]"
   ]
  },
  {
   "cell_type": "code",
   "execution_count": 134,
   "metadata": {},
   "outputs": [],
   "source": [
    "def compute_data_choice_1(df):\n",
    "    # Cancellation Category Count\n",
    "    bar_data = df.groupby(['Month','CancellationCode'])['Flights'].sum().reset_index()\n",
    "    # Average flight time by reporting airline\n",
    "    line_data = df.groupby(['Month','Reporting_Airline'])['AirTime'].mean().reset_index()\n",
    "    # Diverted Airport Landings\n",
    "    div_data = df[df['DivAirportLandings'] != 0.0]\n",
    "    # Source state count\n",
    "    map_data = df.groupby(['OriginState'])['Flights'].sum().reset_index()\n",
    "    # Destination state count\n",
    "    tree_data = df.groupby(['DestState', 'Reporting_Airline'])['Flights'].sum().reset_index()\n",
    "    return bar_data, line_data, div_data, map_data, tree_data"
   ]
  },
  {
   "cell_type": "code",
   "execution_count": 135,
   "metadata": {},
   "outputs": [],
   "source": [
    "def compute_data_choice_2(df):\n",
    "    # Compute delay averages\n",
    "    avg_car = df.groupby(['Month','Reporting_Airline'])['CarrierDelay'].mean().reset_index()\n",
    "    avg_weather = df.groupby(['Month','Reporting_Airline'])['WeatherDelay'].mean().reset_index()\n",
    "    avg_NAS = df.groupby(['Month','Reporting_Airline'])['NASDelay'].mean().reset_index()\n",
    "    avg_sec = df.groupby(['Month','Reporting_Airline'])['SecurityDelay'].mean().reset_index()\n",
    "    avg_late = df.groupby(['Month','Reporting_Airline'])['LateAircraftDelay'].mean().reset_index()\n",
    "    return avg_car, avg_weather, avg_NAS, avg_sec, avg_late"
   ]
  },
  {
   "cell_type": "code",
   "execution_count": 136,
   "metadata": {},
   "outputs": [],
   "source": [
    "# Application layout\n",
    "app.layout = html.Div(children=[ html.H1('US Domestic Airline Flights Performance',\n",
    "                                style={'textAlign': 'center', 'color': '#503D36',\n",
    "                                'font-size': 24}),   # TODO1: Add title to the dashboard\n",
    "                                \n",
    "                                # Add an division\n",
    "                                    html.Div([\n",
    "                                        # Create an division for adding dropdown helper text for report type\n",
    "                                        html.Div(\n",
    "                                            [\n",
    "                                            html.H2('Report Type:', style={'margin-right': '2em'}),\n",
    "                                            ]\n",
    "                                        ),\n",
    "                                        # TODO2: Add a dropdown    \n",
    "                                          dcc.Dropdown(\n",
    "                                              id='input-type', \n",
    "                                              options=[\n",
    "                                                 {'label': 'Yearly Airline Performance Report', 'value': 'OPT1'},\n",
    "                                                 {'label': 'Yearly Airline Delay Report', 'value': 'OPT2'}\n",
    "                                             ],\n",
    "                                             placeholder='Select',\n",
    "                                             style={'width':'80%', 'padding':'3px', 'font-size': '20px', 'text-align-last' : 'center'}), \n",
    "                                       # Place them next to each other using the division style\n",
    "                                    ], style={'display':'flex'}),\n",
    "                                    \n",
    "                                   # Add next division \n",
    "                                   html.Div([\n",
    "                                       # Create an division for adding dropdown helper text for choosing year\n",
    "                                        html.Div(\n",
    "                                            [\n",
    "                                            html.H2('Choose Year:', style={'margin-right': '2em'})\n",
    "                                            ]\n",
    "                                        ),\n",
    "                                        dcc.Dropdown(id='input-year', \n",
    "                                                     # Update dropdown values using list comphrehension\n",
    "                                                     options=[{'label': i, 'value': i} for i in year_list],\n",
    "                                                     placeholder=\"Select a year\",\n",
    "                                                     style={'width':'80%', 'padding':'3px', 'font-size': '20px', 'text-align-last' : 'center'}),\n",
    "                                            # Place them next to each other using the division style\n",
    "                                            ], style={'display': 'flex'}),  \n",
    "                                                                          \n",
    "                                # Add Computed graphs\n",
    "                                # REVIEW3: Observe how we add an empty division and providing an id that will be updated during callback\n",
    "                                html.Div([ ], id='plot1'),\n",
    "    \n",
    "                                html.Div([\n",
    "                                        html.Div([ ], id='plot2'),\n",
    "                                        html.Div([ ], id='plot3')\n",
    "                                ], style={'display': 'flex'}),\n",
    "                                \n",
    "                                # TODO3: Add a division with two empty divisions inside. See above disvision for example.\n",
    "                                html.Div([\n",
    "                                        html.Div([ ], id='plot4'),\n",
    "                                        html.Div([ ], id='plot5')\n",
    "                                ], style={'display': 'flex'}),\n",
    "                                ])"
   ]
  },
  {
   "cell_type": "code",
   "execution_count": 137,
   "metadata": {},
   "outputs": [],
   "source": [
    "# Callback function definition\n",
    "# TODO4: Add 5 ouput components\n",
    "@app.callback( [Output(component_id='plot1', component_property='children'),\n",
    "                Output(component_id='plot2', component_property='children'),\n",
    "                Output(component_id='plot3', component_property='children'),\n",
    "                Output(component_id='plot4', component_property='children'),\n",
    "                Output(component_id='plot5', component_property='children')\n",
    "               ],\n",
    "               [Input(component_id='input-type', component_property='value'),\n",
    "                Input(component_id='input-year', component_property='value')],\n",
    "               # REVIEW4: Holding output state till user enters all the form information. In this case, it will be chart type and year\n",
    "               [State(\"plot1\", 'children'), State(\"plot2\", \"children\"),\n",
    "                State(\"plot3\", \"children\"), State(\"plot4\", \"children\"),\n",
    "                State(\"plot5\", \"children\")\n",
    "               ])\n",
    "\n",
    "# Add computation to callback function and return graph\n",
    "def get_graph(chart, year, children1, children2, c3, c4, c5):\n",
    "      \n",
    "        # Select data\n",
    "        df =  airline_data[airline_data['Year']==int(year)]\n",
    "       \n",
    "        if chart == 'OPT1':\n",
    "            # Compute required information for creating graph from the data\n",
    "            bar_data, line_data, div_data, map_data, tree_data = compute_data_choice_1(df)\n",
    "            \n",
    "            # Number of flights under different cancellation categories\n",
    "            bar_fig = px.bar(bar_data, x='Month', y='Flights', color='CancellationCode', title='Monthly Flight Cancellation')\n",
    "            \n",
    "            # TODO5: Average flight time by reporting airline\n",
    "            line_fig = px.line(line_data, x='Month', y='AirTime', color='Reporting_Airline', title='Average monthly flight time (minutes) by airline')\n",
    "            \n",
    "            # Percentage of diverted airport landings per reporting airline\n",
    "            pie_fig = px.pie(div_data, values='Flights', names='Reporting_Airline', title='% of flights by reporting airline')\n",
    "            \n",
    "            # REVIEW5: Number of flights flying from each state using choropleth\n",
    "            map_fig = px.choropleth(map_data,  # Input data\n",
    "                    locations='OriginState', \n",
    "                    color='Flights',  \n",
    "                    hover_data=['OriginState', 'Flights'], \n",
    "                    locationmode = 'USA-states', # Set to plot as US States\n",
    "                    color_continuous_scale='GnBu',\n",
    "                    range_color=[0, map_data['Flights'].max()]) \n",
    "            map_fig.update_layout(\n",
    "                    title_text = 'Number of flights from origin state', \n",
    "                    geo_scope='usa') # Plot only the USA instead of globe\n",
    "            \n",
    "            # TODO6: Number of flights flying to each state from each reporting airline\n",
    "            tree_fig = px.treemap(tree_data2, path=['DestState', 'Reporting_Airline'], \n",
    "                    values='Flights',\n",
    "                    color= 'Flights',\n",
    "                    color_continuous_scale='RdBu',\n",
    "                    title='Flight count by airline to destination state')\n",
    "                               \n",
    "            # REVIEW6: Return dcc.Graph component to the empty division\n",
    "            return [dcc.Graph(figure=tree_fig), \n",
    "                    dcc.Graph(figure=pie_fig),\n",
    "                    dcc.Graph(figure=map_fig),\n",
    "                    dcc.Graph(figure=bar_fig),\n",
    "                    dcc.Graph(figure=line_fig)\n",
    "                   ]\n",
    "        \n",
    "        else:\n",
    "            # REVIEW7: This covers chart type 2 and we have completed this exercise under Flight Delay Time Statistics Dashboard section\n",
    "            # Compute required information for creating graph from the data\n",
    "            avg_car, avg_weather, avg_NAS, avg_sec, avg_late = compute_data_choice_2(df)\n",
    "            \n",
    "            # Create graph\n",
    "            carrier_fig = px.line(avg_car, x='Month', y='CarrierDelay', color='Reporting_Airline', title='Average carrrier delay time (minutes) by airline')\n",
    "            weather_fig = px.line(avg_weather, x='Month', y='WeatherDelay', color='Reporting_Airline', title='Average weather delay time (minutes) by airline')\n",
    "            nas_fig = px.line(avg_NAS, x='Month', y='NASDelay', color='Reporting_Airline', title='Average NAS delay time (minutes) by airline')\n",
    "            sec_fig = px.line(avg_sec, x='Month', y='SecurityDelay', color='Reporting_Airline', title='Average security delay time (minutes) by airline')\n",
    "            late_fig = px.line(avg_late, x='Month', y='LateAircraftDelay', color='Reporting_Airline', title='Average late aircraft delay time (minutes) by airline')\n",
    "            \n",
    "            return[dcc.Graph(figure=carrier_fig), \n",
    "                   dcc.Graph(figure=weather_fig), \n",
    "                   dcc.Graph(figure=nas_fig), \n",
    "                   dcc.Graph(figure=sec_fig), \n",
    "                   dcc.Graph(figure=late_fig)]"
   ]
  },
  {
   "cell_type": "code",
   "execution_count": 138,
   "metadata": {},
   "outputs": [
    {
     "name": "stderr",
     "output_type": "stream",
     "text": [
      "127.0.0.1 - - [29/Apr/2021 11:36:54] \"\u001b[37mGET /_shutdown_b77d0f4f-b2d2-44e3-a662-02394a13915a HTTP/1.1\u001b[0m\" 200 -\n",
      " * Running on http://127.0.0.1:8000/ (Press CTRL+C to quit)\n",
      "127.0.0.1 - - [29/Apr/2021 11:36:54] \"\u001b[37mGET /_alive_b77d0f4f-b2d2-44e3-a662-02394a13915a HTTP/1.1\u001b[0m\" 200 -\n"
     ]
    },
    {
     "name": "stdout",
     "output_type": "stream",
     "text": [
      "Dash app running on http://localhost:8844/proxy/8000/\n"
     ]
    }
   ],
   "source": [
    "# Run the app\n",
    "if __name__ == '__main__':\n",
    "    # REVIEW8: Adding dev_tools_ui=False, dev_tools_props_check=False can prevent error appearing before calling callback function\n",
    "    #app.run_server(mode=\"inline\", host=\"localhost\", debug=False, dev_tools_ui=False, dev_tools_props_check=False)\n",
    "    app.run_server(port=8000, debug=False)"
   ]
  },
  {
   "cell_type": "code",
   "execution_count": 139,
   "metadata": {},
   "outputs": [
    {
     "data": {
      "application/vnd.plotly.v1+json": {
       "config": {
        "plotlyServerURL": "https://plot.ly"
       },
       "data": [
        {
         "branchvalues": "total",
         "domain": {
          "x": [
           0,
           1
          ],
          "y": [
           0,
           1
          ]
         },
         "hovertemplate": "labels=%{label}<br>Flights=%{value}<br>parent=%{parent}<br>id=%{id}<extra></extra>",
         "ids": [
          "AZ/AA",
          "CA/AA",
          "CO/AA",
          "CT/AA",
          "FL/AA",
          "HI/AA",
          "IL/AA",
          "MA/AA",
          "NC/AA",
          "NV/AA",
          "NY/AA",
          "OH/AA",
          "PA/AA",
          "PR/AA",
          "TN/AA",
          "TX/AA",
          "VA/AA",
          "AK/AS",
          "AZ/AS",
          "CA/AS",
          "CO/AS",
          "FL/AS",
          "HI/AS",
          "MA/AS",
          "NV/AS",
          "TX/AS",
          "UT/AS",
          "WA/AS",
          "AZ/B6",
          "CA/B6",
          "CO/B6",
          "CT/B6",
          "FL/B6",
          "IL/B6",
          "LA/B6",
          "MA/B6",
          "ME/B6",
          "NC/B6",
          "NJ/B6",
          "NY/B6",
          "PA/B6",
          "VA/B6",
          "AK/DL",
          "AL/DL",
          "AR/DL",
          "AZ/DL",
          "CA/DL",
          "FL/DL",
          "GA/DL",
          "IA/DL",
          "IL/DL",
          "KS/DL",
          "MA/DL",
          "MD/DL",
          "MI/DL",
          "MN/DL",
          "MO/DL",
          "MT/DL",
          "NC/DL",
          "NJ/DL",
          "NV/DL",
          "NY/DL",
          "OH/DL",
          "TN/DL",
          "TX/DL",
          "UT/DL",
          "VA/DL",
          "WA/DL",
          "AL/EV",
          "AR/EV",
          "CT/EV",
          "FL/EV",
          "GA/EV",
          "IL/EV",
          "IN/EV",
          "KS/EV",
          "KY/EV",
          "MI/EV",
          "MO/EV",
          "MS/EV",
          "NC/EV",
          "ND/EV",
          "NJ/EV",
          "NY/EV",
          "OH/EV",
          "SC/EV",
          "SD/EV",
          "TN/EV",
          "TX/EV",
          "VA/EV",
          "CA/F9",
          "CO/F9",
          "IL/F9",
          "KY/F9",
          "MO/F9",
          "NC/F9",
          "NY/F9",
          "CA/HA",
          "HI/HA",
          "AR/MQ",
          "CO/MQ",
          "FL/MQ",
          "IA/MQ",
          "IL/MQ",
          "LA/MQ",
          "MI/MQ",
          "OH/MQ",
          "TX/MQ",
          "VA/MQ",
          "WI/MQ",
          "CA/NK",
          "CO/NK",
          "FL/NK",
          "IL/NK",
          "MI/NK",
          "MN/NK",
          "NJ/NK",
          "NY/NK",
          "OH/NK",
          "PA/NK",
          "TX/NK",
          "AZ/OO",
          "CA/OO",
          "CO/OO",
          "GA/OO",
          "IA/OO",
          "ID/OO",
          "IL/OO",
          "IN/OO",
          "KS/OO",
          "KY/OO",
          "MI/OO",
          "MN/OO",
          "MO/OO",
          "MT/OO",
          "ND/OO",
          "NE/OO",
          "NV/OO",
          "NY/OO",
          "OK/OO",
          "OR/OO",
          "TN/OO",
          "TX/OO",
          "UT/OO",
          "VA/OO",
          "WA/OO",
          "WI/OO",
          "AZ/UA",
          "CA/UA",
          "CO/UA",
          "FL/UA",
          "GA/UA",
          "HI/UA",
          "IL/UA",
          "LA/UA",
          "MA/UA",
          "MD/UA",
          "MI/UA",
          "NE/UA",
          "NJ/UA",
          "NV/UA",
          "NY/UA",
          "OH/UA",
          "OR/UA",
          "PA/UA",
          "TN/UA",
          "TX/UA",
          "VA/UA",
          "WA/UA",
          "AZ/US",
          "CA/US",
          "CO/US",
          "FL/US",
          "GA/US",
          "IN/US",
          "MN/US",
          "NC/US",
          "NJ/US",
          "NY/US",
          "OH/US",
          "PA/US",
          "VA/US",
          "CA/VX",
          "IL/VX",
          "NV/VX",
          "NY/VX",
          "AZ/WN",
          "CA/WN",
          "CO/WN",
          "FL/WN",
          "GA/WN",
          "IL/WN",
          "IN/WN",
          "KY/WN",
          "LA/WN",
          "MD/WN",
          "MI/WN",
          "MN/WN",
          "MO/WN",
          "NC/WN",
          "NM/WN",
          "NV/WN",
          "NY/WN",
          "OH/WN",
          "OK/WN",
          "OR/WN",
          "PA/WN",
          "PR/WN",
          "RI/WN",
          "SC/WN",
          "TN/WN",
          "TX/WN",
          "UT/WN",
          "VA/WN",
          "WA/WN",
          "WI/WN",
          "AK",
          "AL",
          "AR",
          "AZ",
          "CA",
          "CO",
          "CT",
          "FL",
          "GA",
          "HI",
          "IA",
          "ID",
          "IL",
          "IN",
          "KS",
          "KY",
          "LA",
          "MA",
          "MD",
          "ME",
          "MI",
          "MN",
          "MO",
          "MS",
          "MT",
          "NC",
          "ND",
          "NE",
          "NJ",
          "NM",
          "NV",
          "NY",
          "OH",
          "OK",
          "OR",
          "PA",
          "PR",
          "RI",
          "SC",
          "SD",
          "TN",
          "TX",
          "UT",
          "VA",
          "WA",
          "WI"
         ],
         "labels": [
          "AA",
          "AA",
          "AA",
          "AA",
          "AA",
          "AA",
          "AA",
          "AA",
          "AA",
          "AA",
          "AA",
          "AA",
          "AA",
          "AA",
          "AA",
          "AA",
          "AA",
          "AS",
          "AS",
          "AS",
          "AS",
          "AS",
          "AS",
          "AS",
          "AS",
          "AS",
          "AS",
          "AS",
          "B6",
          "B6",
          "B6",
          "B6",
          "B6",
          "B6",
          "B6",
          "B6",
          "B6",
          "B6",
          "B6",
          "B6",
          "B6",
          "B6",
          "DL",
          "DL",
          "DL",
          "DL",
          "DL",
          "DL",
          "DL",
          "DL",
          "DL",
          "DL",
          "DL",
          "DL",
          "DL",
          "DL",
          "DL",
          "DL",
          "DL",
          "DL",
          "DL",
          "DL",
          "DL",
          "DL",
          "DL",
          "DL",
          "DL",
          "DL",
          "EV",
          "EV",
          "EV",
          "EV",
          "EV",
          "EV",
          "EV",
          "EV",
          "EV",
          "EV",
          "EV",
          "EV",
          "EV",
          "EV",
          "EV",
          "EV",
          "EV",
          "EV",
          "EV",
          "EV",
          "EV",
          "EV",
          "F9",
          "F9",
          "F9",
          "F9",
          "F9",
          "F9",
          "F9",
          "HA",
          "HA",
          "MQ",
          "MQ",
          "MQ",
          "MQ",
          "MQ",
          "MQ",
          "MQ",
          "MQ",
          "MQ",
          "MQ",
          "MQ",
          "NK",
          "NK",
          "NK",
          "NK",
          "NK",
          "NK",
          "NK",
          "NK",
          "NK",
          "NK",
          "NK",
          "OO",
          "OO",
          "OO",
          "OO",
          "OO",
          "OO",
          "OO",
          "OO",
          "OO",
          "OO",
          "OO",
          "OO",
          "OO",
          "OO",
          "OO",
          "OO",
          "OO",
          "OO",
          "OO",
          "OO",
          "OO",
          "OO",
          "OO",
          "OO",
          "OO",
          "OO",
          "UA",
          "UA",
          "UA",
          "UA",
          "UA",
          "UA",
          "UA",
          "UA",
          "UA",
          "UA",
          "UA",
          "UA",
          "UA",
          "UA",
          "UA",
          "UA",
          "UA",
          "UA",
          "UA",
          "UA",
          "UA",
          "UA",
          "US",
          "US",
          "US",
          "US",
          "US",
          "US",
          "US",
          "US",
          "US",
          "US",
          "US",
          "US",
          "US",
          "VX",
          "VX",
          "VX",
          "VX",
          "WN",
          "WN",
          "WN",
          "WN",
          "WN",
          "WN",
          "WN",
          "WN",
          "WN",
          "WN",
          "WN",
          "WN",
          "WN",
          "WN",
          "WN",
          "WN",
          "WN",
          "WN",
          "WN",
          "WN",
          "WN",
          "WN",
          "WN",
          "WN",
          "WN",
          "WN",
          "WN",
          "WN",
          "WN",
          "WN",
          "AK",
          "AL",
          "AR",
          "AZ",
          "CA",
          "CO",
          "CT",
          "FL",
          "GA",
          "HI",
          "IA",
          "ID",
          "IL",
          "IN",
          "KS",
          "KY",
          "LA",
          "MA",
          "MD",
          "ME",
          "MI",
          "MN",
          "MO",
          "MS",
          "MT",
          "NC",
          "ND",
          "NE",
          "NJ",
          "NM",
          "NV",
          "NY",
          "OH",
          "OK",
          "OR",
          "PA",
          "PR",
          "RI",
          "SC",
          "SD",
          "TN",
          "TX",
          "UT",
          "VA",
          "WA",
          "WI"
         ],
         "name": "",
         "parents": [
          "AZ",
          "CA",
          "CO",
          "CT",
          "FL",
          "HI",
          "IL",
          "MA",
          "NC",
          "NV",
          "NY",
          "OH",
          "PA",
          "PR",
          "TN",
          "TX",
          "VA",
          "AK",
          "AZ",
          "CA",
          "CO",
          "FL",
          "HI",
          "MA",
          "NV",
          "TX",
          "UT",
          "WA",
          "AZ",
          "CA",
          "CO",
          "CT",
          "FL",
          "IL",
          "LA",
          "MA",
          "ME",
          "NC",
          "NJ",
          "NY",
          "PA",
          "VA",
          "AK",
          "AL",
          "AR",
          "AZ",
          "CA",
          "FL",
          "GA",
          "IA",
          "IL",
          "KS",
          "MA",
          "MD",
          "MI",
          "MN",
          "MO",
          "MT",
          "NC",
          "NJ",
          "NV",
          "NY",
          "OH",
          "TN",
          "TX",
          "UT",
          "VA",
          "WA",
          "AL",
          "AR",
          "CT",
          "FL",
          "GA",
          "IL",
          "IN",
          "KS",
          "KY",
          "MI",
          "MO",
          "MS",
          "NC",
          "ND",
          "NJ",
          "NY",
          "OH",
          "SC",
          "SD",
          "TN",
          "TX",
          "VA",
          "CA",
          "CO",
          "IL",
          "KY",
          "MO",
          "NC",
          "NY",
          "CA",
          "HI",
          "AR",
          "CO",
          "FL",
          "IA",
          "IL",
          "LA",
          "MI",
          "OH",
          "TX",
          "VA",
          "WI",
          "CA",
          "CO",
          "FL",
          "IL",
          "MI",
          "MN",
          "NJ",
          "NY",
          "OH",
          "PA",
          "TX",
          "AZ",
          "CA",
          "CO",
          "GA",
          "IA",
          "ID",
          "IL",
          "IN",
          "KS",
          "KY",
          "MI",
          "MN",
          "MO",
          "MT",
          "ND",
          "NE",
          "NV",
          "NY",
          "OK",
          "OR",
          "TN",
          "TX",
          "UT",
          "VA",
          "WA",
          "WI",
          "AZ",
          "CA",
          "CO",
          "FL",
          "GA",
          "HI",
          "IL",
          "LA",
          "MA",
          "MD",
          "MI",
          "NE",
          "NJ",
          "NV",
          "NY",
          "OH",
          "OR",
          "PA",
          "TN",
          "TX",
          "VA",
          "WA",
          "AZ",
          "CA",
          "CO",
          "FL",
          "GA",
          "IN",
          "MN",
          "NC",
          "NJ",
          "NY",
          "OH",
          "PA",
          "VA",
          "CA",
          "IL",
          "NV",
          "NY",
          "AZ",
          "CA",
          "CO",
          "FL",
          "GA",
          "IL",
          "IN",
          "KY",
          "LA",
          "MD",
          "MI",
          "MN",
          "MO",
          "NC",
          "NM",
          "NV",
          "NY",
          "OH",
          "OK",
          "OR",
          "PA",
          "PR",
          "RI",
          "SC",
          "TN",
          "TX",
          "UT",
          "VA",
          "WA",
          "WI",
          "",
          "",
          "",
          "",
          "",
          "",
          "",
          "",
          "",
          "",
          "",
          "",
          "",
          "",
          "",
          "",
          "",
          "",
          "",
          "",
          "",
          "",
          "",
          "",
          "",
          "",
          "",
          "",
          "",
          "",
          "",
          "",
          "",
          "",
          "",
          "",
          "",
          "",
          "",
          "",
          "",
          "",
          "",
          "",
          "",
          ""
         ],
         "type": "treemap",
         "values": [
          3,
          8,
          1,
          1,
          12,
          1,
          9,
          4,
          6,
          6,
          7,
          2,
          5,
          1,
          2,
          25,
          2,
          2,
          2,
          4,
          2,
          1,
          1,
          1,
          1,
          1,
          1,
          7,
          2,
          2,
          1,
          1,
          7,
          1,
          1,
          6,
          1,
          1,
          2,
          6,
          1,
          1,
          1,
          1,
          2,
          1,
          6,
          8,
          32,
          1,
          2,
          1,
          3,
          1,
          5,
          6,
          1,
          1,
          4,
          2,
          2,
          7,
          2,
          1,
          2,
          3,
          2,
          1,
          5,
          1,
          1,
          2,
          10,
          8,
          1,
          1,
          1,
          5,
          1,
          2,
          2,
          1,
          7,
          4,
          2,
          1,
          1,
          3,
          15,
          5,
          1,
          2,
          1,
          1,
          1,
          1,
          1,
          1,
          9,
          2,
          1,
          2,
          2,
          13,
          1,
          1,
          1,
          13,
          1,
          3,
          1,
          1,
          1,
          5,
          2,
          1,
          2,
          1,
          2,
          1,
          3,
          3,
          23,
          9,
          1,
          1,
          2,
          9,
          1,
          1,
          2,
          4,
          2,
          1,
          2,
          1,
          1,
          1,
          1,
          2,
          2,
          3,
          13,
          7,
          1,
          3,
          2,
          2,
          17,
          6,
          5,
          2,
          4,
          14,
          1,
          1,
          1,
          1,
          1,
          6,
          2,
          1,
          2,
          1,
          1,
          1,
          12,
          2,
          1,
          1,
          1,
          1,
          2,
          2,
          1,
          1,
          9,
          2,
          1,
          1,
          2,
          6,
          4,
          1,
          1,
          2,
          3,
          24,
          11,
          23,
          1,
          9,
          2,
          1,
          4,
          12,
          3,
          1,
          7,
          1,
          2,
          4,
          11,
          3,
          2,
          3,
          1,
          2,
          1,
          1,
          7,
          20,
          2,
          3,
          1,
          3,
          3,
          6,
          5,
          17,
          92,
          35,
          3,
          63,
          48,
          15,
          4,
          2,
          72,
          5,
          3,
          5,
          7,
          15,
          14,
          1,
          21,
          11,
          11,
          2,
          3,
          24,
          2,
          2,
          21,
          2,
          17,
          42,
          15,
          4,
          6,
          11,
          3,
          1,
          2,
          1,
          17,
          104,
          13,
          23,
          13,
          8
         ]
        }
       ],
       "layout": {
        "autosize": true,
        "legend": {
         "tracegroupgap": 0
        },
        "margin": {
         "t": 60
        },
        "template": {
         "data": {
          "bar": [
           {
            "error_x": {
             "color": "#2a3f5f"
            },
            "error_y": {
             "color": "#2a3f5f"
            },
            "marker": {
             "line": {
              "color": "#E5ECF6",
              "width": 0.5
             }
            },
            "type": "bar"
           }
          ],
          "barpolar": [
           {
            "marker": {
             "line": {
              "color": "#E5ECF6",
              "width": 0.5
             }
            },
            "type": "barpolar"
           }
          ],
          "carpet": [
           {
            "aaxis": {
             "endlinecolor": "#2a3f5f",
             "gridcolor": "white",
             "linecolor": "white",
             "minorgridcolor": "white",
             "startlinecolor": "#2a3f5f"
            },
            "baxis": {
             "endlinecolor": "#2a3f5f",
             "gridcolor": "white",
             "linecolor": "white",
             "minorgridcolor": "white",
             "startlinecolor": "#2a3f5f"
            },
            "type": "carpet"
           }
          ],
          "choropleth": [
           {
            "colorbar": {
             "outlinewidth": 0,
             "ticks": ""
            },
            "type": "choropleth"
           }
          ],
          "contour": [
           {
            "colorbar": {
             "outlinewidth": 0,
             "ticks": ""
            },
            "colorscale": [
             [
              0,
              "#0d0887"
             ],
             [
              0.1111111111111111,
              "#46039f"
             ],
             [
              0.2222222222222222,
              "#7201a8"
             ],
             [
              0.3333333333333333,
              "#9c179e"
             ],
             [
              0.4444444444444444,
              "#bd3786"
             ],
             [
              0.5555555555555556,
              "#d8576b"
             ],
             [
              0.6666666666666666,
              "#ed7953"
             ],
             [
              0.7777777777777778,
              "#fb9f3a"
             ],
             [
              0.8888888888888888,
              "#fdca26"
             ],
             [
              1,
              "#f0f921"
             ]
            ],
            "type": "contour"
           }
          ],
          "contourcarpet": [
           {
            "colorbar": {
             "outlinewidth": 0,
             "ticks": ""
            },
            "type": "contourcarpet"
           }
          ],
          "heatmap": [
           {
            "colorbar": {
             "outlinewidth": 0,
             "ticks": ""
            },
            "colorscale": [
             [
              0,
              "#0d0887"
             ],
             [
              0.1111111111111111,
              "#46039f"
             ],
             [
              0.2222222222222222,
              "#7201a8"
             ],
             [
              0.3333333333333333,
              "#9c179e"
             ],
             [
              0.4444444444444444,
              "#bd3786"
             ],
             [
              0.5555555555555556,
              "#d8576b"
             ],
             [
              0.6666666666666666,
              "#ed7953"
             ],
             [
              0.7777777777777778,
              "#fb9f3a"
             ],
             [
              0.8888888888888888,
              "#fdca26"
             ],
             [
              1,
              "#f0f921"
             ]
            ],
            "type": "heatmap"
           }
          ],
          "heatmapgl": [
           {
            "colorbar": {
             "outlinewidth": 0,
             "ticks": ""
            },
            "colorscale": [
             [
              0,
              "#0d0887"
             ],
             [
              0.1111111111111111,
              "#46039f"
             ],
             [
              0.2222222222222222,
              "#7201a8"
             ],
             [
              0.3333333333333333,
              "#9c179e"
             ],
             [
              0.4444444444444444,
              "#bd3786"
             ],
             [
              0.5555555555555556,
              "#d8576b"
             ],
             [
              0.6666666666666666,
              "#ed7953"
             ],
             [
              0.7777777777777778,
              "#fb9f3a"
             ],
             [
              0.8888888888888888,
              "#fdca26"
             ],
             [
              1,
              "#f0f921"
             ]
            ],
            "type": "heatmapgl"
           }
          ],
          "histogram": [
           {
            "marker": {
             "colorbar": {
              "outlinewidth": 0,
              "ticks": ""
             }
            },
            "type": "histogram"
           }
          ],
          "histogram2d": [
           {
            "colorbar": {
             "outlinewidth": 0,
             "ticks": ""
            },
            "colorscale": [
             [
              0,
              "#0d0887"
             ],
             [
              0.1111111111111111,
              "#46039f"
             ],
             [
              0.2222222222222222,
              "#7201a8"
             ],
             [
              0.3333333333333333,
              "#9c179e"
             ],
             [
              0.4444444444444444,
              "#bd3786"
             ],
             [
              0.5555555555555556,
              "#d8576b"
             ],
             [
              0.6666666666666666,
              "#ed7953"
             ],
             [
              0.7777777777777778,
              "#fb9f3a"
             ],
             [
              0.8888888888888888,
              "#fdca26"
             ],
             [
              1,
              "#f0f921"
             ]
            ],
            "type": "histogram2d"
           }
          ],
          "histogram2dcontour": [
           {
            "colorbar": {
             "outlinewidth": 0,
             "ticks": ""
            },
            "colorscale": [
             [
              0,
              "#0d0887"
             ],
             [
              0.1111111111111111,
              "#46039f"
             ],
             [
              0.2222222222222222,
              "#7201a8"
             ],
             [
              0.3333333333333333,
              "#9c179e"
             ],
             [
              0.4444444444444444,
              "#bd3786"
             ],
             [
              0.5555555555555556,
              "#d8576b"
             ],
             [
              0.6666666666666666,
              "#ed7953"
             ],
             [
              0.7777777777777778,
              "#fb9f3a"
             ],
             [
              0.8888888888888888,
              "#fdca26"
             ],
             [
              1,
              "#f0f921"
             ]
            ],
            "type": "histogram2dcontour"
           }
          ],
          "mesh3d": [
           {
            "colorbar": {
             "outlinewidth": 0,
             "ticks": ""
            },
            "type": "mesh3d"
           }
          ],
          "parcoords": [
           {
            "line": {
             "colorbar": {
              "outlinewidth": 0,
              "ticks": ""
             }
            },
            "type": "parcoords"
           }
          ],
          "pie": [
           {
            "automargin": true,
            "type": "pie"
           }
          ],
          "scatter": [
           {
            "marker": {
             "colorbar": {
              "outlinewidth": 0,
              "ticks": ""
             }
            },
            "type": "scatter"
           }
          ],
          "scatter3d": [
           {
            "line": {
             "colorbar": {
              "outlinewidth": 0,
              "ticks": ""
             }
            },
            "marker": {
             "colorbar": {
              "outlinewidth": 0,
              "ticks": ""
             }
            },
            "type": "scatter3d"
           }
          ],
          "scattercarpet": [
           {
            "marker": {
             "colorbar": {
              "outlinewidth": 0,
              "ticks": ""
             }
            },
            "type": "scattercarpet"
           }
          ],
          "scattergeo": [
           {
            "marker": {
             "colorbar": {
              "outlinewidth": 0,
              "ticks": ""
             }
            },
            "type": "scattergeo"
           }
          ],
          "scattergl": [
           {
            "marker": {
             "colorbar": {
              "outlinewidth": 0,
              "ticks": ""
             }
            },
            "type": "scattergl"
           }
          ],
          "scattermapbox": [
           {
            "marker": {
             "colorbar": {
              "outlinewidth": 0,
              "ticks": ""
             }
            },
            "type": "scattermapbox"
           }
          ],
          "scatterpolar": [
           {
            "marker": {
             "colorbar": {
              "outlinewidth": 0,
              "ticks": ""
             }
            },
            "type": "scatterpolar"
           }
          ],
          "scatterpolargl": [
           {
            "marker": {
             "colorbar": {
              "outlinewidth": 0,
              "ticks": ""
             }
            },
            "type": "scatterpolargl"
           }
          ],
          "scatterternary": [
           {
            "marker": {
             "colorbar": {
              "outlinewidth": 0,
              "ticks": ""
             }
            },
            "type": "scatterternary"
           }
          ],
          "surface": [
           {
            "colorbar": {
             "outlinewidth": 0,
             "ticks": ""
            },
            "colorscale": [
             [
              0,
              "#0d0887"
             ],
             [
              0.1111111111111111,
              "#46039f"
             ],
             [
              0.2222222222222222,
              "#7201a8"
             ],
             [
              0.3333333333333333,
              "#9c179e"
             ],
             [
              0.4444444444444444,
              "#bd3786"
             ],
             [
              0.5555555555555556,
              "#d8576b"
             ],
             [
              0.6666666666666666,
              "#ed7953"
             ],
             [
              0.7777777777777778,
              "#fb9f3a"
             ],
             [
              0.8888888888888888,
              "#fdca26"
             ],
             [
              1,
              "#f0f921"
             ]
            ],
            "type": "surface"
           }
          ],
          "table": [
           {
            "cells": {
             "fill": {
              "color": "#EBF0F8"
             },
             "line": {
              "color": "white"
             }
            },
            "header": {
             "fill": {
              "color": "#C8D4E3"
             },
             "line": {
              "color": "white"
             }
            },
            "type": "table"
           }
          ]
         },
         "layout": {
          "annotationdefaults": {
           "arrowcolor": "#2a3f5f",
           "arrowhead": 0,
           "arrowwidth": 1
          },
          "autotypenumbers": "strict",
          "coloraxis": {
           "colorbar": {
            "outlinewidth": 0,
            "ticks": ""
           }
          },
          "colorscale": {
           "diverging": [
            [
             0,
             "#8e0152"
            ],
            [
             0.1,
             "#c51b7d"
            ],
            [
             0.2,
             "#de77ae"
            ],
            [
             0.3,
             "#f1b6da"
            ],
            [
             0.4,
             "#fde0ef"
            ],
            [
             0.5,
             "#f7f7f7"
            ],
            [
             0.6,
             "#e6f5d0"
            ],
            [
             0.7,
             "#b8e186"
            ],
            [
             0.8,
             "#7fbc41"
            ],
            [
             0.9,
             "#4d9221"
            ],
            [
             1,
             "#276419"
            ]
           ],
           "sequential": [
            [
             0,
             "#0d0887"
            ],
            [
             0.1111111111111111,
             "#46039f"
            ],
            [
             0.2222222222222222,
             "#7201a8"
            ],
            [
             0.3333333333333333,
             "#9c179e"
            ],
            [
             0.4444444444444444,
             "#bd3786"
            ],
            [
             0.5555555555555556,
             "#d8576b"
            ],
            [
             0.6666666666666666,
             "#ed7953"
            ],
            [
             0.7777777777777778,
             "#fb9f3a"
            ],
            [
             0.8888888888888888,
             "#fdca26"
            ],
            [
             1,
             "#f0f921"
            ]
           ],
           "sequentialminus": [
            [
             0,
             "#0d0887"
            ],
            [
             0.1111111111111111,
             "#46039f"
            ],
            [
             0.2222222222222222,
             "#7201a8"
            ],
            [
             0.3333333333333333,
             "#9c179e"
            ],
            [
             0.4444444444444444,
             "#bd3786"
            ],
            [
             0.5555555555555556,
             "#d8576b"
            ],
            [
             0.6666666666666666,
             "#ed7953"
            ],
            [
             0.7777777777777778,
             "#fb9f3a"
            ],
            [
             0.8888888888888888,
             "#fdca26"
            ],
            [
             1,
             "#f0f921"
            ]
           ]
          },
          "colorway": [
           "#636efa",
           "#EF553B",
           "#00cc96",
           "#ab63fa",
           "#FFA15A",
           "#19d3f3",
           "#FF6692",
           "#B6E880",
           "#FF97FF",
           "#FECB52"
          ],
          "font": {
           "color": "#2a3f5f"
          },
          "geo": {
           "bgcolor": "white",
           "lakecolor": "white",
           "landcolor": "#E5ECF6",
           "showlakes": true,
           "showland": true,
           "subunitcolor": "white"
          },
          "hoverlabel": {
           "align": "left"
          },
          "hovermode": "closest",
          "mapbox": {
           "style": "light"
          },
          "paper_bgcolor": "white",
          "plot_bgcolor": "#E5ECF6",
          "polar": {
           "angularaxis": {
            "gridcolor": "white",
            "linecolor": "white",
            "ticks": ""
           },
           "bgcolor": "#E5ECF6",
           "radialaxis": {
            "gridcolor": "white",
            "linecolor": "white",
            "ticks": ""
           }
          },
          "scene": {
           "xaxis": {
            "backgroundcolor": "#E5ECF6",
            "gridcolor": "white",
            "gridwidth": 2,
            "linecolor": "white",
            "showbackground": true,
            "ticks": "",
            "zerolinecolor": "white"
           },
           "yaxis": {
            "backgroundcolor": "#E5ECF6",
            "gridcolor": "white",
            "gridwidth": 2,
            "linecolor": "white",
            "showbackground": true,
            "ticks": "",
            "zerolinecolor": "white"
           },
           "zaxis": {
            "backgroundcolor": "#E5ECF6",
            "gridcolor": "white",
            "gridwidth": 2,
            "linecolor": "white",
            "showbackground": true,
            "ticks": "",
            "zerolinecolor": "white"
           }
          },
          "shapedefaults": {
           "line": {
            "color": "#2a3f5f"
           }
          },
          "ternary": {
           "aaxis": {
            "gridcolor": "white",
            "linecolor": "white",
            "ticks": ""
           },
           "baxis": {
            "gridcolor": "white",
            "linecolor": "white",
            "ticks": ""
           },
           "bgcolor": "#E5ECF6",
           "caxis": {
            "gridcolor": "white",
            "linecolor": "white",
            "ticks": ""
           }
          },
          "title": {
           "x": 0.05
          },
          "xaxis": {
           "automargin": true,
           "gridcolor": "white",
           "linecolor": "white",
           "ticks": "",
           "title": {
            "standoff": 15
           },
           "zerolinecolor": "white",
           "zerolinewidth": 2
          },
          "yaxis": {
           "automargin": true,
           "gridcolor": "white",
           "linecolor": "white",
           "ticks": "",
           "title": {
            "standoff": 15
           },
           "zerolinecolor": "white",
           "zerolinewidth": 2
          }
         }
        }
       }
      },
      "image/png": "[encoded data removed]",
      "text/html": [
       "<div>                            <div id=\"637bb981-bd58-4c60-b329-9b4a2c270c1d\" class=\"plotly-graph-div\" style=\"height:525px; width:100%;\"></div>            <script type=\"text/javascript\">                require([\"plotly\"], function(Plotly) {                    window.PLOTLYENV=window.PLOTLYENV || {};                                    if (document.getElementById(\"637bb981-bd58-4c60-b329-9b4a2c270c1d\")) {                    Plotly.newPlot(                        \"637bb981-bd58-4c60-b329-9b4a2c270c1d\",                        [{\"branchvalues\": \"total\", \"domain\": {\"x\": [0.0, 1.0], \"y\": [0.0, 1.0]}, \"hovertemplate\": \"labels=%{label}<br>Flights=%{value}<br>parent=%{parent}<br>id=%{id}<extra></extra>\", \"ids\": [\"AZ/AA\", \"CA/AA\", \"CO/AA\", \"CT/AA\", \"FL/AA\", \"HI/AA\", \"IL/AA\", \"MA/AA\", \"NC/AA\", \"NV/AA\", \"NY/AA\", \"OH/AA\", \"PA/AA\", \"PR/AA\", \"TN/AA\", \"TX/AA\", \"VA/AA\", \"AK/AS\", \"AZ/AS\", \"CA/AS\", \"CO/AS\", \"FL/AS\", \"HI/AS\", \"MA/AS\", \"NV/AS\", \"TX/AS\", \"UT/AS\", \"WA/AS\", \"AZ/B6\", \"CA/B6\", \"CO/B6\", \"CT/B6\", \"FL/B6\", \"IL/B6\", \"LA/B6\", \"MA/B6\", \"ME/B6\", \"NC/B6\", \"NJ/B6\", \"NY/B6\", \"PA/B6\", \"VA/B6\", \"AK/DL\", \"AL/DL\", \"AR/DL\", \"AZ/DL\", \"CA/DL\", \"FL/DL\", \"GA/DL\", \"IA/DL\", \"IL/DL\", \"KS/DL\", \"MA/DL\", \"MD/DL\", \"MI/DL\", \"MN/DL\", \"MO/DL\", \"MT/DL\", \"NC/DL\", \"NJ/DL\", \"NV/DL\", \"NY/DL\", \"OH/DL\", \"TN/DL\", \"TX/DL\", \"UT/DL\", \"VA/DL\", \"WA/DL\", \"AL/EV\", \"AR/EV\", \"CT/EV\", \"FL/EV\", \"GA/EV\", \"IL/EV\", \"IN/EV\", \"KS/EV\", \"KY/EV\", \"MI/EV\", \"MO/EV\", \"MS/EV\", \"NC/EV\", \"ND/EV\", \"NJ/EV\", \"NY/EV\", \"OH/EV\", \"SC/EV\", \"SD/EV\", \"TN/EV\", \"TX/EV\", \"VA/EV\", \"CA/F9\", \"CO/F9\", \"IL/F9\", \"KY/F9\", \"MO/F9\", \"NC/F9\", \"NY/F9\", \"CA/HA\", \"HI/HA\", \"AR/MQ\", \"CO/MQ\", \"FL/MQ\", \"IA/MQ\", \"IL/MQ\", \"LA/MQ\", \"MI/MQ\", \"OH/MQ\", \"TX/MQ\", \"VA/MQ\", \"WI/MQ\", \"CA/NK\", \"CO/NK\", \"FL/NK\", \"IL/NK\", \"MI/NK\", \"MN/NK\", \"NJ/NK\", \"NY/NK\", \"OH/NK\", \"PA/NK\", \"TX/NK\", \"AZ/OO\", \"CA/OO\", \"CO/OO\", \"GA/OO\", \"IA/OO\", \"ID/OO\", \"IL/OO\", \"IN/OO\", \"KS/OO\", \"KY/OO\", \"MI/OO\", \"MN/OO\", \"MO/OO\", \"MT/OO\", \"ND/OO\", \"NE/OO\", \"NV/OO\", \"NY/OO\", \"OK/OO\", \"OR/OO\", \"TN/OO\", \"TX/OO\", \"UT/OO\", \"VA/OO\", \"WA/OO\", \"WI/OO\", \"AZ/UA\", \"CA/UA\", \"CO/UA\", \"FL/UA\", \"GA/UA\", \"HI/UA\", \"IL/UA\", \"LA/UA\", \"MA/UA\", \"MD/UA\", \"MI/UA\", \"NE/UA\", \"NJ/UA\", \"NV/UA\", \"NY/UA\", \"OH/UA\", \"OR/UA\", \"PA/UA\", \"TN/UA\", \"TX/UA\", \"VA/UA\", \"WA/UA\", \"AZ/US\", \"CA/US\", \"CO/US\", \"FL/US\", \"GA/US\", \"IN/US\", \"MN/US\", \"NC/US\", \"NJ/US\", \"NY/US\", \"OH/US\", \"PA/US\", \"VA/US\", \"CA/VX\", \"IL/VX\", \"NV/VX\", \"NY/VX\", \"AZ/WN\", \"CA/WN\", \"CO/WN\", \"FL/WN\", \"GA/WN\", \"IL/WN\", \"IN/WN\", \"KY/WN\", \"LA/WN\", \"MD/WN\", \"MI/WN\", \"MN/WN\", \"MO/WN\", \"NC/WN\", \"NM/WN\", \"NV/WN\", \"NY/WN\", \"OH/WN\", \"OK/WN\", \"OR/WN\", \"PA/WN\", \"PR/WN\", \"RI/WN\", \"SC/WN\", \"TN/WN\", \"TX/WN\", \"UT/WN\", \"VA/WN\", \"WA/WN\", \"WI/WN\", \"AK\", \"AL\", \"AR\", \"AZ\", \"CA\", \"CO\", \"CT\", \"FL\", \"GA\", \"HI\", \"IA\", \"ID\", \"IL\", \"IN\", \"KS\", \"KY\", \"LA\", \"MA\", \"MD\", \"ME\", \"MI\", \"MN\", \"MO\", \"MS\", \"MT\", \"NC\", \"ND\", \"NE\", \"NJ\", \"NM\", \"NV\", \"NY\", \"OH\", \"OK\", \"OR\", \"PA\", \"PR\", \"RI\", \"SC\", \"SD\", \"TN\", \"TX\", \"UT\", \"VA\", \"WA\", \"WI\"], \"labels\": [\"AA\", \"AA\", \"AA\", \"AA\", \"AA\", \"AA\", \"AA\", \"AA\", \"AA\", \"AA\", \"AA\", \"AA\", \"AA\", \"AA\", \"AA\", \"AA\", \"AA\", \"AS\", \"AS\", \"AS\", \"AS\", \"AS\", \"AS\", \"AS\", \"AS\", \"AS\", \"AS\", \"AS\", \"B6\", \"B6\", \"B6\", \"B6\", \"B6\", \"B6\", \"B6\", \"B6\", \"B6\", \"B6\", \"B6\", \"B6\", \"B6\", \"B6\", \"DL\", \"DL\", \"DL\", \"DL\", \"DL\", \"DL\", \"DL\", \"DL\", \"DL\", \"DL\", \"DL\", \"DL\", \"DL\", \"DL\", \"DL\", \"DL\", \"DL\", \"DL\", \"DL\", \"DL\", \"DL\", \"DL\", \"DL\", \"DL\", \"DL\", \"DL\", \"EV\", \"EV\", \"EV\", \"EV\", \"EV\", \"EV\", \"EV\", \"EV\", \"EV\", \"EV\", \"EV\", \"EV\", \"EV\", \"EV\", \"EV\", \"EV\", \"EV\", \"EV\", \"EV\", \"EV\", \"EV\", \"EV\", \"F9\", \"F9\", \"F9\", \"F9\", \"F9\", \"F9\", \"F9\", \"HA\", \"HA\", \"MQ\", \"MQ\", \"MQ\", \"MQ\", \"MQ\", \"MQ\", \"MQ\", \"MQ\", \"MQ\", \"MQ\", \"MQ\", \"NK\", \"NK\", \"NK\", \"NK\", \"NK\", \"NK\", \"NK\", \"NK\", \"NK\", \"NK\", \"NK\", \"OO\", \"OO\", \"OO\", \"OO\", \"OO\", \"OO\", \"OO\", \"OO\", \"OO\", \"OO\", \"OO\", \"OO\", \"OO\", \"OO\", \"OO\", \"OO\", \"OO\", \"OO\", \"OO\", \"OO\", \"OO\", \"OO\", \"OO\", \"OO\", \"OO\", \"OO\", \"UA\", \"UA\", \"UA\", \"UA\", \"UA\", \"UA\", \"UA\", \"UA\", \"UA\", \"UA\", \"UA\", \"UA\", \"UA\", \"UA\", \"UA\", \"UA\", \"UA\", \"UA\", \"UA\", \"UA\", \"UA\", \"UA\", \"US\", \"US\", \"US\", \"US\", \"US\", \"US\", \"US\", \"US\", \"US\", \"US\", \"US\", \"US\", \"US\", \"VX\", \"VX\", \"VX\", \"VX\", \"WN\", \"WN\", \"WN\", \"WN\", \"WN\", \"WN\", \"WN\", \"WN\", \"WN\", \"WN\", \"WN\", \"WN\", \"WN\", \"WN\", \"WN\", \"WN\", \"WN\", \"WN\", \"WN\", \"WN\", \"WN\", \"WN\", \"WN\", \"WN\", \"WN\", \"WN\", \"WN\", \"WN\", \"WN\", \"WN\", \"AK\", \"AL\", \"AR\", \"AZ\", \"CA\", \"CO\", \"CT\", \"FL\", \"GA\", \"HI\", \"IA\", \"ID\", \"IL\", \"IN\", \"KS\", \"KY\", \"LA\", \"MA\", \"MD\", \"ME\", \"MI\", \"MN\", \"MO\", \"MS\", \"MT\", \"NC\", \"ND\", \"NE\", \"NJ\", \"NM\", \"NV\", \"NY\", \"OH\", \"OK\", \"OR\", \"PA\", \"PR\", \"RI\", \"SC\", \"SD\", \"TN\", \"TX\", \"UT\", \"VA\", \"WA\", \"WI\"], \"name\": \"\", \"parents\": [\"AZ\", \"CA\", \"CO\", \"CT\", \"FL\", \"HI\", \"IL\", \"MA\", \"NC\", \"NV\", \"NY\", \"OH\", \"PA\", \"PR\", \"TN\", \"TX\", \"VA\", \"AK\", \"AZ\", \"CA\", \"CO\", \"FL\", \"HI\", \"MA\", \"NV\", \"TX\", \"UT\", \"WA\", \"AZ\", \"CA\", \"CO\", \"CT\", \"FL\", \"IL\", \"LA\", \"MA\", \"ME\", \"NC\", \"NJ\", \"NY\", \"PA\", \"VA\", \"AK\", \"AL\", \"AR\", \"AZ\", \"CA\", \"FL\", \"GA\", \"IA\", \"IL\", \"KS\", \"MA\", \"MD\", \"MI\", \"MN\", \"MO\", \"MT\", \"NC\", \"NJ\", \"NV\", \"NY\", \"OH\", \"TN\", \"TX\", \"UT\", \"VA\", \"WA\", \"AL\", \"AR\", \"CT\", \"FL\", \"GA\", \"IL\", \"IN\", \"KS\", \"KY\", \"MI\", \"MO\", \"MS\", \"NC\", \"ND\", \"NJ\", \"NY\", \"OH\", \"SC\", \"SD\", \"TN\", \"TX\", \"VA\", \"CA\", \"CO\", \"IL\", \"KY\", \"MO\", \"NC\", \"NY\", \"CA\", \"HI\", \"AR\", \"CO\", \"FL\", \"IA\", \"IL\", \"LA\", \"MI\", \"OH\", \"TX\", \"VA\", \"WI\", \"CA\", \"CO\", \"FL\", \"IL\", \"MI\", \"MN\", \"NJ\", \"NY\", \"OH\", \"PA\", \"TX\", \"AZ\", \"CA\", \"CO\", \"GA\", \"IA\", \"ID\", \"IL\", \"IN\", \"KS\", \"KY\", \"MI\", \"MN\", \"MO\", \"MT\", \"ND\", \"NE\", \"NV\", \"NY\", \"OK\", \"OR\", \"TN\", \"TX\", \"UT\", \"VA\", \"WA\", \"WI\", \"AZ\", \"CA\", \"CO\", \"FL\", \"GA\", \"HI\", \"IL\", \"LA\", \"MA\", \"MD\", \"MI\", \"NE\", \"NJ\", \"NV\", \"NY\", \"OH\", \"OR\", \"PA\", \"TN\", \"TX\", \"VA\", \"WA\", \"AZ\", \"CA\", \"CO\", \"FL\", \"GA\", \"IN\", \"MN\", \"NC\", \"NJ\", \"NY\", \"OH\", \"PA\", \"VA\", \"CA\", \"IL\", \"NV\", \"NY\", \"AZ\", \"CA\", \"CO\", \"FL\", \"GA\", \"IL\", \"IN\", \"KY\", \"LA\", \"MD\", \"MI\", \"MN\", \"MO\", \"NC\", \"NM\", \"NV\", \"NY\", \"OH\", \"OK\", \"OR\", \"PA\", \"PR\", \"RI\", \"SC\", \"TN\", \"TX\", \"UT\", \"VA\", \"WA\", \"WI\", \"\", \"\", \"\", \"\", \"\", \"\", \"\", \"\", \"\", \"\", \"\", \"\", \"\", \"\", \"\", \"\", \"\", \"\", \"\", \"\", \"\", \"\", \"\", \"\", \"\", \"\", \"\", \"\", \"\", \"\", \"\", \"\", \"\", \"\", \"\", \"\", \"\", \"\", \"\", \"\", \"\", \"\", \"\", \"\", \"\", \"\"], \"type\": \"treemap\", \"values\": [3.0, 8.0, 1.0, 1.0, 12.0, 1.0, 9.0, 4.0, 6.0, 6.0, 7.0, 2.0, 5.0, 1.0, 2.0, 25.0, 2.0, 2.0, 2.0, 4.0, 2.0, 1.0, 1.0, 1.0, 1.0, 1.0, 1.0, 7.0, 2.0, 2.0, 1.0, 1.0, 7.0, 1.0, 1.0, 6.0, 1.0, 1.0, 2.0, 6.0, 1.0, 1.0, 1.0, 1.0, 2.0, 1.0, 6.0, 8.0, 32.0, 1.0, 2.0, 1.0, 3.0, 1.0, 5.0, 6.0, 1.0, 1.0, 4.0, 2.0, 2.0, 7.0, 2.0, 1.0, 2.0, 3.0, 2.0, 1.0, 5.0, 1.0, 1.0, 2.0, 10.0, 8.0, 1.0, 1.0, 1.0, 5.0, 1.0, 2.0, 2.0, 1.0, 7.0, 4.0, 2.0, 1.0, 1.0, 3.0, 15.0, 5.0, 1.0, 2.0, 1.0, 1.0, 1.0, 1.0, 1.0, 1.0, 9.0, 2.0, 1.0, 2.0, 2.0, 13.0, 1.0, 1.0, 1.0, 13.0, 1.0, 3.0, 1.0, 1.0, 1.0, 5.0, 2.0, 1.0, 2.0, 1.0, 2.0, 1.0, 3.0, 3.0, 23.0, 9.0, 1.0, 1.0, 2.0, 9.0, 1.0, 1.0, 2.0, 4.0, 2.0, 1.0, 2.0, 1.0, 1.0, 1.0, 1.0, 2.0, 2.0, 3.0, 13.0, 7.0, 1.0, 3.0, 2.0, 2.0, 17.0, 6.0, 5.0, 2.0, 4.0, 14.0, 1.0, 1.0, 1.0, 1.0, 1.0, 6.0, 2.0, 1.0, 2.0, 1.0, 1.0, 1.0, 12.0, 2.0, 1.0, 1.0, 1.0, 1.0, 2.0, 2.0, 1.0, 1.0, 9.0, 2.0, 1.0, 1.0, 2.0, 6.0, 4.0, 1.0, 1.0, 2.0, 3.0, 24.0, 11.0, 23.0, 1.0, 9.0, 2.0, 1.0, 4.0, 12.0, 3.0, 1.0, 7.0, 1.0, 2.0, 4.0, 11.0, 3.0, 2.0, 3.0, 1.0, 2.0, 1.0, 1.0, 7.0, 20.0, 2.0, 3.0, 1.0, 3.0, 3.0, 6.0, 5.0, 17.0, 92.0, 35.0, 3.0, 63.0, 48.0, 15.0, 4.0, 2.0, 72.0, 5.0, 3.0, 5.0, 7.0, 15.0, 14.0, 1.0, 21.0, 11.0, 11.0, 2.0, 3.0, 24.0, 2.0, 2.0, 21.0, 2.0, 17.0, 42.0, 15.0, 4.0, 6.0, 11.0, 3.0, 1.0, 2.0, 1.0, 17.0, 104.0, 13.0, 23.0, 13.0, 8.0]}],                        {\"legend\": {\"tracegroupgap\": 0}, \"margin\": {\"t\": 60}, \"template\": {\"data\": {\"bar\": [{\"error_x\": {\"color\": \"#2a3f5f\"}, \"error_y\": {\"color\": \"#2a3f5f\"}, \"marker\": {\"line\": {\"color\": \"#E5ECF6\", \"width\": 0.5}}, \"type\": \"bar\"}], \"barpolar\": [{\"marker\": {\"line\": {\"color\": \"#E5ECF6\", \"width\": 0.5}}, \"type\": \"barpolar\"}], \"carpet\": [{\"aaxis\": {\"endlinecolor\": \"#2a3f5f\", \"gridcolor\": \"white\", \"linecolor\": \"white\", \"minorgridcolor\": \"white\", \"startlinecolor\": \"#2a3f5f\"}, \"baxis\": {\"endlinecolor\": \"#2a3f5f\", \"gridcolor\": \"white\", \"linecolor\": \"white\", \"minorgridcolor\": \"white\", \"startlinecolor\": \"#2a3f5f\"}, \"type\": \"carpet\"}], \"choropleth\": [{\"colorbar\": {\"outlinewidth\": 0, \"ticks\": \"\"}, \"type\": \"choropleth\"}], \"contour\": [{\"colorbar\": {\"outlinewidth\": 0, \"ticks\": \"\"}, \"colorscale\": [[0.0, \"#0d0887\"], [0.1111111111111111, \"#46039f\"], [0.2222222222222222, \"#7201a8\"], [0.3333333333333333, \"#9c179e\"], [0.4444444444444444, \"#bd3786\"], [0.5555555555555556, \"#d8576b\"], [0.6666666666666666, \"#ed7953\"], [0.7777777777777778, \"#fb9f3a\"], [0.8888888888888888, \"#fdca26\"], [1.0, \"#f0f921\"]], \"type\": \"contour\"}], \"contourcarpet\": [{\"colorbar\": {\"outlinewidth\": 0, \"ticks\": \"\"}, \"type\": \"contourcarpet\"}], \"heatmap\": [{\"colorbar\": {\"outlinewidth\": 0, \"ticks\": \"\"}, \"colorscale\": [[0.0, \"#0d0887\"], [0.1111111111111111, \"#46039f\"], [0.2222222222222222, \"#7201a8\"], [0.3333333333333333, \"#9c179e\"], [0.4444444444444444, \"#bd3786\"], [0.5555555555555556, \"#d8576b\"], [0.6666666666666666, \"#ed7953\"], [0.7777777777777778, \"#fb9f3a\"], [0.8888888888888888, \"#fdca26\"], [1.0, \"#f0f921\"]], \"type\": \"heatmap\"}], \"heatmapgl\": [{\"colorbar\": {\"outlinewidth\": 0, \"ticks\": \"\"}, \"colorscale\": [[0.0, \"#0d0887\"], [0.1111111111111111, \"#46039f\"], [0.2222222222222222, \"#7201a8\"], [0.3333333333333333, \"#9c179e\"], [0.4444444444444444, \"#bd3786\"], [0.5555555555555556, \"#d8576b\"], [0.6666666666666666, \"#ed7953\"], [0.7777777777777778, \"#fb9f3a\"], [0.8888888888888888, \"#fdca26\"], [1.0, \"#f0f921\"]], \"type\": \"heatmapgl\"}], \"histogram\": [{\"marker\": {\"colorbar\": {\"outlinewidth\": 0, \"ticks\": \"\"}}, \"type\": \"histogram\"}], \"histogram2d\": [{\"colorbar\": {\"outlinewidth\": 0, \"ticks\": \"\"}, \"colorscale\": [[0.0, \"#0d0887\"], [0.1111111111111111, \"#46039f\"], [0.2222222222222222, \"#7201a8\"], [0.3333333333333333, \"#9c179e\"], [0.4444444444444444, \"#bd3786\"], [0.5555555555555556, \"#d8576b\"], [0.6666666666666666, \"#ed7953\"], [0.7777777777777778, \"#fb9f3a\"], [0.8888888888888888, \"#fdca26\"], [1.0, \"#f0f921\"]], \"type\": \"histogram2d\"}], \"histogram2dcontour\": [{\"colorbar\": {\"outlinewidth\": 0, \"ticks\": \"\"}, \"colorscale\": [[0.0, \"#0d0887\"], [0.1111111111111111, \"#46039f\"], [0.2222222222222222, \"#7201a8\"], [0.3333333333333333, \"#9c179e\"], [0.4444444444444444, \"#bd3786\"], [0.5555555555555556, \"#d8576b\"], [0.6666666666666666, \"#ed7953\"], [0.7777777777777778, \"#fb9f3a\"], [0.8888888888888888, \"#fdca26\"], [1.0, \"#f0f921\"]], \"type\": \"histogram2dcontour\"}], \"mesh3d\": [{\"colorbar\": {\"outlinewidth\": 0, \"ticks\": \"\"}, \"type\": \"mesh3d\"}], \"parcoords\": [{\"line\": {\"colorbar\": {\"outlinewidth\": 0, \"ticks\": \"\"}}, \"type\": \"parcoords\"}], \"pie\": [{\"automargin\": true, \"type\": \"pie\"}], \"scatter\": [{\"marker\": {\"colorbar\": {\"outlinewidth\": 0, \"ticks\": \"\"}}, \"type\": \"scatter\"}], \"scatter3d\": [{\"line\": {\"colorbar\": {\"outlinewidth\": 0, \"ticks\": \"\"}}, \"marker\": {\"colorbar\": {\"outlinewidth\": 0, \"ticks\": \"\"}}, \"type\": \"scatter3d\"}], \"scattercarpet\": [{\"marker\": {\"colorbar\": {\"outlinewidth\": 0, \"ticks\": \"\"}}, \"type\": \"scattercarpet\"}], \"scattergeo\": [{\"marker\": {\"colorbar\": {\"outlinewidth\": 0, \"ticks\": \"\"}}, \"type\": \"scattergeo\"}], \"scattergl\": [{\"marker\": {\"colorbar\": {\"outlinewidth\": 0, \"ticks\": \"\"}}, \"type\": \"scattergl\"}], \"scattermapbox\": [{\"marker\": {\"colorbar\": {\"outlinewidth\": 0, \"ticks\": \"\"}}, \"type\": \"scattermapbox\"}], \"scatterpolar\": [{\"marker\": {\"colorbar\": {\"outlinewidth\": 0, \"ticks\": \"\"}}, \"type\": \"scatterpolar\"}], \"scatterpolargl\": [{\"marker\": {\"colorbar\": {\"outlinewidth\": 0, \"ticks\": \"\"}}, \"type\": \"scatterpolargl\"}], \"scatterternary\": [{\"marker\": {\"colorbar\": {\"outlinewidth\": 0, \"ticks\": \"\"}}, \"type\": \"scatterternary\"}], \"surface\": [{\"colorbar\": {\"outlinewidth\": 0, \"ticks\": \"\"}, \"colorscale\": [[0.0, \"#0d0887\"], [0.1111111111111111, \"#46039f\"], [0.2222222222222222, \"#7201a8\"], [0.3333333333333333, \"#9c179e\"], [0.4444444444444444, \"#bd3786\"], [0.5555555555555556, \"#d8576b\"], [0.6666666666666666, \"#ed7953\"], [0.7777777777777778, \"#fb9f3a\"], [0.8888888888888888, \"#fdca26\"], [1.0, \"#f0f921\"]], \"type\": \"surface\"}], \"table\": [{\"cells\": {\"fill\": {\"color\": \"#EBF0F8\"}, \"line\": {\"color\": \"white\"}}, \"header\": {\"fill\": {\"color\": \"#C8D4E3\"}, \"line\": {\"color\": \"white\"}}, \"type\": \"table\"}]}, \"layout\": {\"annotationdefaults\": {\"arrowcolor\": \"#2a3f5f\", \"arrowhead\": 0, \"arrowwidth\": 1}, \"autotypenumbers\": \"strict\", \"coloraxis\": {\"colorbar\": {\"outlinewidth\": 0, \"ticks\": \"\"}}, \"colorscale\": {\"diverging\": [[0, \"#8e0152\"], [0.1, \"#c51b7d\"], [0.2, \"#de77ae\"], [0.3, \"#f1b6da\"], [0.4, \"#fde0ef\"], [0.5, \"#f7f7f7\"], [0.6, \"#e6f5d0\"], [0.7, \"#b8e186\"], [0.8, \"#7fbc41\"], [0.9, \"#4d9221\"], [1, \"#276419\"]], \"sequential\": [[0.0, \"#0d0887\"], [0.1111111111111111, \"#46039f\"], [0.2222222222222222, \"#7201a8\"], [0.3333333333333333, \"#9c179e\"], [0.4444444444444444, \"#bd3786\"], [0.5555555555555556, \"#d8576b\"], [0.6666666666666666, \"#ed7953\"], [0.7777777777777778, \"#fb9f3a\"], [0.8888888888888888, \"#fdca26\"], [1.0, \"#f0f921\"]], \"sequentialminus\": [[0.0, \"#0d0887\"], [0.1111111111111111, \"#46039f\"], [0.2222222222222222, \"#7201a8\"], [0.3333333333333333, \"#9c179e\"], [0.4444444444444444, \"#bd3786\"], [0.5555555555555556, \"#d8576b\"], [0.6666666666666666, \"#ed7953\"], [0.7777777777777778, \"#fb9f3a\"], [0.8888888888888888, \"#fdca26\"], [1.0, \"#f0f921\"]]}, \"colorway\": [\"#636efa\", \"#EF553B\", \"#00cc96\", \"#ab63fa\", \"#FFA15A\", \"#19d3f3\", \"#FF6692\", \"#B6E880\", \"#FF97FF\", \"#FECB52\"], \"font\": {\"color\": \"#2a3f5f\"}, \"geo\": {\"bgcolor\": \"white\", \"lakecolor\": \"white\", \"landcolor\": \"#E5ECF6\", \"showlakes\": true, \"showland\": true, \"subunitcolor\": \"white\"}, \"hoverlabel\": {\"align\": \"left\"}, \"hovermode\": \"closest\", \"mapbox\": {\"style\": \"light\"}, \"paper_bgcolor\": \"white\", \"plot_bgcolor\": \"#E5ECF6\", \"polar\": {\"angularaxis\": {\"gridcolor\": \"white\", \"linecolor\": \"white\", \"ticks\": \"\"}, \"bgcolor\": \"#E5ECF6\", \"radialaxis\": {\"gridcolor\": \"white\", \"linecolor\": \"white\", \"ticks\": \"\"}}, \"scene\": {\"xaxis\": {\"backgroundcolor\": \"#E5ECF6\", \"gridcolor\": \"white\", \"gridwidth\": 2, \"linecolor\": \"white\", \"showbackground\": true, \"ticks\": \"\", \"zerolinecolor\": \"white\"}, \"yaxis\": {\"backgroundcolor\": \"#E5ECF6\", \"gridcolor\": \"white\", \"gridwidth\": 2, \"linecolor\": \"white\", \"showbackground\": true, \"ticks\": \"\", \"zerolinecolor\": \"white\"}, \"zaxis\": {\"backgroundcolor\": \"#E5ECF6\", \"gridcolor\": \"white\", \"gridwidth\": 2, \"linecolor\": \"white\", \"showbackground\": true, \"ticks\": \"\", \"zerolinecolor\": \"white\"}}, \"shapedefaults\": {\"line\": {\"color\": \"#2a3f5f\"}}, \"ternary\": {\"aaxis\": {\"gridcolor\": \"white\", \"linecolor\": \"white\", \"ticks\": \"\"}, \"baxis\": {\"gridcolor\": \"white\", \"linecolor\": \"white\", \"ticks\": \"\"}, \"bgcolor\": \"#E5ECF6\", \"caxis\": {\"gridcolor\": \"white\", \"linecolor\": \"white\", \"ticks\": \"\"}}, \"title\": {\"x\": 0.05}, \"xaxis\": {\"automargin\": true, \"gridcolor\": \"white\", \"linecolor\": \"white\", \"ticks\": \"\", \"title\": {\"standoff\": 15}, \"zerolinecolor\": \"white\", \"zerolinewidth\": 2}, \"yaxis\": {\"automargin\": true, \"gridcolor\": \"white\", \"linecolor\": \"white\", \"ticks\": \"\", \"title\": {\"standoff\": 15}, \"zerolinecolor\": \"white\", \"zerolinewidth\": 2}}}},                        {\"responsive\": true}                    ).then(function(){\n",
       "                            \n",
       "var gd = document.getElementById('637bb981-bd58-4c60-b329-9b4a2c270c1d');\n",
       "var x = new MutationObserver(function (mutations, observer) {{\n",
       "        var display = window.getComputedStyle(gd).display;\n",
       "        if (!display || display === 'none') {{\n",
       "            console.log([gd, 'removed!']);\n",
       "            Plotly.purge(gd);\n",
       "            observer.disconnect();\n",
       "        }}\n",
       "}});\n",
       "\n",
       "// Listen for the removal of the full notebook cells\n",
       "var notebookContainer = gd.closest('#notebook-container');\n",
       "if (notebookContainer) {{\n",
       "    x.observe(notebookContainer, {childList: true});\n",
       "}}\n",
       "\n",
       "// Listen for the clearing of the current output cell\n",
       "var outputEl = gd.closest('.output');\n",
       "if (outputEl) {{\n",
       "    x.observe(outputEl, {childList: true});\n",
       "}}\n",
       "\n",
       "                        })                };                });            </script>        </div>"
      ]
     },
     "metadata": {},
     "output_type": "display_data"
    }
   ],
   "source": [
    "# the plotly express treemap does not go to the dashboard (plotly bug) so i have displayed it here instead\n",
    "df =  airline_data[airline_data['Year']==int(2015)]\n",
    "tree_data2 = df.groupby(['DestState', 'Reporting_Airline'])['Flights'].sum().reset_index()\n",
    "fig = px.treemap(tree_data2, path=['DestState', 'Reporting_Airline'], values= 'Flights')\n",
    "fig.show()"
   ]
  }
 ],
 "metadata": {
  "kernelspec": {
   "display_name": "Python 3",
   "language": "python",
   "name": "python3"
  },
  "language_info": {
   "codemirror_mode": {
    "name": "ipython",
    "version": 3
   },
   "file_extension": ".py",
   "mimetype": "text/x-python",
   "name": "python",
   "nbconvert_exporter": "python",
   "pygments_lexer": "ipython3",
   "version": "3.8.5"
  }
 },
 "nbformat": 4,
 "nbformat_minor": 4
}
